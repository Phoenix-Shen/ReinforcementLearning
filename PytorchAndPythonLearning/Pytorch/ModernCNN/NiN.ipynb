{
 "cells": [
  {
   "cell_type": "markdown",
   "metadata": {},
   "source": [
    "# 网络中的网络 NIN\n",
    "LeNet、AlexNet、VGG都有一个共同的特征：使用卷积层和汇聚层来提取空间特征，然后通过全连接层对特征的表征进行处理，后两者的改进是在于扩大和加深这两个模块；如果在这个过程中的早期使用全连接层，可能就会完全放弃表征的空间结构，网络中的网络（NIN）提供了一个想法：在每个像素的通道上面分别使用多层感知机。"
   ]
  },
  {
   "cell_type": "code",
   "execution_count": 1,
   "metadata": {},
   "outputs": [],
   "source": [
    "import torch as t\n",
    "import torch.nn as nn\n",
    "\n",
    "def nin_block(in_channels,out_channels,kernel_size,strides,padding):\n",
    "    blk = nn.Sequential(\n",
    "        nn.Conv2d(in_channels,out_channels,kernel_size,strides,padding),\n",
    "        nn.ReLU(),\n",
    "        nn.Conv2d(out_channels,out_channels,kernel_size=1),nn.ReLU(),\n",
    "        nn.Conv2d(out_channels,out_channels,kernel_size=1),nn.ReLU(),\n",
    "    )\n",
    "    return blk"
   ]
  },
  {
   "cell_type": "code",
   "execution_count": 2,
   "metadata": {},
   "outputs": [],
   "source": [
    "# 失去了全连接层，参数大大滴减少！但是在实践中，这种设计有可能会增加训练时间\n",
    "net = nn.Sequential(\n",
    "    nin_block(1,96,kernel_size=11,strides=4,padding=0),\n",
    "    nn.MaxPool2d(3,stride=2),\n",
    "    nin_block(96,256,kernel_size=5,strides=1,padding=2),\n",
    "    nn.MaxPool2d(3,stride=2),\n",
    "    nin_block(256,384,kernel_size=3,strides=1,padding=1),\n",
    "    nn.MaxPool2d(3,stride=2),\n",
    "    nn.Dropout(0.5),\n",
    "    nin_block(384,10,kernel_size=3,strides=1,padding=1),\n",
    "    nn.AdaptiveAvgPool2d((1,1)),\n",
    "    nn.Flatten(),\n",
    ")"
   ]
  },
  {
   "cell_type": "code",
   "execution_count": 4,
   "metadata": {},
   "outputs": [
    {
     "name": "stdout",
     "output_type": "stream",
     "text": [
      "Sequential output shape:\t torch.Size([1, 96, 54, 54])\n",
      "MaxPool2d output shape:\t torch.Size([1, 96, 26, 26])\n",
      "Sequential output shape:\t torch.Size([1, 256, 26, 26])\n",
      "MaxPool2d output shape:\t torch.Size([1, 256, 12, 12])\n",
      "Sequential output shape:\t torch.Size([1, 384, 12, 12])\n",
      "MaxPool2d output shape:\t torch.Size([1, 384, 5, 5])\n",
      "Dropout output shape:\t torch.Size([1, 384, 5, 5])\n",
      "Sequential output shape:\t torch.Size([1, 10, 5, 5])\n",
      "AdaptiveAvgPool2d output shape:\t torch.Size([1, 10, 1, 1])\n",
      "Flatten output shape:\t torch.Size([1, 10])\n"
     ]
    }
   ],
   "source": [
    "X = t.rand(size=(1, 1, 224, 224))\n",
    "for layer in net:\n",
    "    X = layer(X)\n",
    "    print(layer.__class__.__name__,'output shape:\\t', X.shape)"
   ]
  }
 ],
 "metadata": {
  "interpreter": {
   "hash": "32fe4a0c0b23bf2d0ff7b6ec889b7996b95e9e7ff48467869f67c8fd61e3e485"
  },
  "kernelspec": {
   "display_name": "Python 3.9.7 ('base')",
   "language": "python",
   "name": "python3"
  },
  "language_info": {
   "codemirror_mode": {
    "name": "ipython",
    "version": 3
   },
   "file_extension": ".py",
   "mimetype": "text/x-python",
   "name": "python",
   "nbconvert_exporter": "python",
   "pygments_lexer": "ipython3",
   "version": "3.9.7"
  },
  "orig_nbformat": 4
 },
 "nbformat": 4,
 "nbformat_minor": 2
}
