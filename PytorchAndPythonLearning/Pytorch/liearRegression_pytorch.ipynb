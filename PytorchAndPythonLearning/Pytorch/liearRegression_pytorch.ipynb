{
 "cells": [
  {
   "cell_type": "markdown",
   "metadata": {},
   "source": [
    "# 使用pytorch 构建网络模型"
   ]
  },
  {
   "cell_type": "code",
   "execution_count": 1,
   "metadata": {},
   "outputs": [
    {
     "name": "stdout",
     "output_type": "stream",
     "text": [
      "features:tensor([0.5205, 0.1084]),\n",
      " labels:tensor([4.8784])\n"
     ]
    }
   ],
   "source": [
    "import numpy as np\n",
    "import torch as t\n",
    "#生成噪声和数据\n",
    "def synthetic_data(w: t.Tensor, b: float, num_examples: int):\n",
    "    x = t.normal(0, 1, (num_examples, len(w)))\n",
    "    y = t.matmul(x, w)+b\n",
    "    y += t.normal(0, 0.01, y.shape)\n",
    "    return x, y.reshape((-1, 1))\n",
    "\n",
    "\n",
    "true_w = t.tensor([2., -3.4])\n",
    "true_b = 4.2\n",
    "features, labels = synthetic_data(true_w, true_b, 1000)\n",
    "print(\"features:{},\\n labels:{}\".format(features[0], labels[0]))\n",
    "\n"
   ]
  },
  {
   "cell_type": "markdown",
   "metadata": {},
   "source": [
    "# 使用t.utils.data.DataLoader实现迭代器。"
   ]
  },
  {
   "cell_type": "code",
   "execution_count": 2,
   "metadata": {},
   "outputs": [
    {
     "data": {
      "text/plain": [
       "[tensor([[-0.7703,  0.6876],\n",
       "         [ 1.6071,  0.7902],\n",
       "         [-0.2983, -1.3070],\n",
       "         [ 0.6706,  0.3865],\n",
       "         [-0.0572, -0.5454],\n",
       "         [ 1.4626,  1.4208],\n",
       "         [-1.1732,  0.8220],\n",
       "         [-0.0059, -2.6996],\n",
       "         [-1.3600, -1.6149],\n",
       "         [-0.2509, -0.9998]]),\n",
       " tensor([[ 0.3227],\n",
       "         [ 4.7143],\n",
       "         [ 8.0351],\n",
       "         [ 4.2322],\n",
       "         [ 5.9518],\n",
       "         [ 2.3251],\n",
       "         [-0.9419],\n",
       "         [13.3800],\n",
       "         [ 6.9714],\n",
       "         [ 7.0932]])]"
      ]
     },
     "execution_count": 2,
     "metadata": {},
     "output_type": "execute_result"
    }
   ],
   "source": [
    "import torch.utils.data as data\n",
    "def load_array(data_arrays,batch_size,is_train=True):\n",
    "    dataset=data.TensorDataset(*data_arrays)\n",
    "    return data.DataLoader(dataset,batch_size,shuffle=is_train)\n",
    "\n",
    "batch_size=10\n",
    "data_iter=load_array((features,labels),batch_size)\n",
    "next(iter(data_iter))\n"
   ]
  },
  {
   "cell_type": "code",
   "execution_count": 5,
   "metadata": {},
   "outputs": [
    {
     "name": "stdout",
     "output_type": "stream",
     "text": [
      "epoch:0,loss:9.874764\n",
      "epoch:1,loss:2.911777\n",
      "epoch:2,loss:0.859588\n",
      "epoch:3,loss:0.253977\n",
      "epoch:4,loss:0.075174\n",
      "epoch:5,loss:0.022310\n",
      "epoch:6,loss:0.006678\n",
      "epoch:7,loss:0.002051\n",
      "epoch:8,loss:0.000681\n",
      "epoch:9,loss:0.000275\n",
      "epoch:10,loss:0.000155\n",
      "epoch:11,loss:0.000119\n",
      "epoch:12,loss:0.000108\n",
      "epoch:13,loss:0.000105\n",
      "epoch:14,loss:0.000104\n"
     ]
    }
   ],
   "source": [
    "import torch.nn as nn\n",
    "#就相当于前面的手写的例子\n",
    "net  =  nn.Sequential(nn.Linear(2,1))\n",
    "# 进行一个权重的初始化\n",
    "net[0].weight.data.normal_(0,0.01)\n",
    "net[0].bias.data.fill_(0)\n",
    "loss= nn.MSELoss()\n",
    "trainer=t.optim.SGD(net.parameters(),lr=0.003)\n",
    "num_epochs=15\n",
    "for epoch in range(num_epochs):\n",
    "    for x,y in data_iter:\n",
    "        l=loss(net(x),y)\n",
    "        trainer.zero_grad()\n",
    "        l.backward()\n",
    "        trainer.step()\n",
    "    l=loss(net(features),labels)\n",
    "    print(f'epoch:{epoch},loss:{l:f}')"
   ]
  },
  {
   "cell_type": "markdown",
   "metadata": {},
   "source": [
    "# 查看网络的参数和偏置（bias）"
   ]
  },
  {
   "cell_type": "code",
   "execution_count": 12,
   "metadata": {},
   "outputs": [
    {
     "name": "stdout",
     "output_type": "stream",
     "text": [
      "0.weight Parameter containing:\n",
      "tensor([[ 1.9999, -3.3994]], requires_grad=True)\n",
      "None\n",
      "0.bias Parameter containing:\n",
      "tensor([4.1997], requires_grad=True)\n",
      "None\n"
     ]
    }
   ],
   "source": [
    "for name,param in net.named_parameters():\n",
    "    print(name,param)\n",
    "    print(param.grad_fn)"
   ]
  },
  {
   "cell_type": "code",
   "execution_count": null,
   "metadata": {},
   "outputs": [],
   "source": []
  }
 ],
 "metadata": {
  "interpreter": {
   "hash": "32fe4a0c0b23bf2d0ff7b6ec889b7996b95e9e7ff48467869f67c8fd61e3e485"
  },
  "kernelspec": {
   "display_name": "Python 3.9.7 64-bit ('base': conda)",
   "language": "python",
   "name": "python3"
  },
  "language_info": {
   "codemirror_mode": {
    "name": "ipython",
    "version": 3
   },
   "file_extension": ".py",
   "mimetype": "text/x-python",
   "name": "python",
   "nbconvert_exporter": "python",
   "pygments_lexer": "ipython3",
   "version": "3.9.7"
  },
  "orig_nbformat": 4
 },
 "nbformat": 4,
 "nbformat_minor": 2
}
