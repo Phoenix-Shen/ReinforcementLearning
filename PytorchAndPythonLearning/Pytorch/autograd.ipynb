{
 "cells": [
  {
   "cell_type": "markdown",
   "metadata": {},
   "source": [
    "# 计算导数和极限"
   ]
  },
  {
   "cell_type": "code",
   "execution_count": 1,
   "metadata": {},
   "outputs": [
    {
     "name": "stdout",
     "output_type": "stream",
     "text": [
      "2.3000000000\n",
      "2.0300000000\n",
      "2.0030000000\n",
      "2.0003000000\n",
      "2.0000300000\n",
      "2.0000030001\n",
      "2.0000002987\n",
      "1.9999999878\n",
      "2.0000001655\n",
      "2.0000001655\n"
     ]
    }
   ],
   "source": [
    "import torch as t\n",
    "from torch.functional import Tensor\n",
    "\n",
    "\n",
    "def f(x: Tensor):\n",
    "    return 3*x.pow(2)-4*x\n",
    "\n",
    "\n",
    "h = t.tensor(0.1, dtype=t.float64)\n",
    "x = t.tensor(1., dtype=t.float64)\n",
    "for i in range(10):\n",
    "    delta = (f(x+h)-f(x))/h\n",
    "    print(\"{:.10f}\".format(delta))\n",
    "    h = h*0.1\n"
   ]
  },
  {
   "cell_type": "markdown",
   "metadata": {},
   "source": [
    "# 计算梯度"
   ]
  },
  {
   "cell_type": "code",
   "execution_count": 2,
   "metadata": {},
   "outputs": [
    {
     "name": "stdout",
     "output_type": "stream",
     "text": [
      "tensor([0., 1., 2., 3.])\n",
      "None\n"
     ]
    },
    {
     "data": {
      "text/plain": [
       "tensor(28., grad_fn=<MulBackward0>)"
      ]
     },
     "execution_count": 2,
     "metadata": {},
     "output_type": "execute_result"
    }
   ],
   "source": [
    "import torch as t\n",
    "x= t.arange(4.)\n",
    "print(x)\n",
    "x.requires_grad_(True)\n",
    "print(x.grad)\n",
    "y=2*t.dot(x,x)\n",
    "y\n"
   ]
  },
  {
   "cell_type": "code",
   "execution_count": 3,
   "metadata": {},
   "outputs": [
    {
     "data": {
      "text/plain": [
       "tensor([ 0.,  4.,  8., 12.])"
      ]
     },
     "execution_count": 3,
     "metadata": {},
     "output_type": "execute_result"
    }
   ],
   "source": [
    "y.backward()\n",
    "x.grad"
   ]
  },
  {
   "cell_type": "code",
   "execution_count": 4,
   "metadata": {},
   "outputs": [
    {
     "data": {
      "text/plain": [
       "tensor([True, True, True, True])"
      ]
     },
     "execution_count": 4,
     "metadata": {},
     "output_type": "execute_result"
    }
   ],
   "source": [
    "x.grad==4*x"
   ]
  },
  {
   "cell_type": "markdown",
   "metadata": {},
   "source": [
    "# 求一个新的函数的梯度"
   ]
  },
  {
   "cell_type": "code",
   "execution_count": 5,
   "metadata": {},
   "outputs": [
    {
     "data": {
      "text/plain": [
       "tensor([1., 1., 1., 1.])"
      ]
     },
     "execution_count": 5,
     "metadata": {},
     "output_type": "execute_result"
    }
   ],
   "source": [
    "x.grad.zero_()\n",
    "y=x.sum()\n",
    "y.backward()\n",
    "x.grad"
   ]
  },
  {
   "cell_type": "code",
   "execution_count": 6,
   "metadata": {},
   "outputs": [
    {
     "name": "stdout",
     "output_type": "stream",
     "text": [
      "tensor([0., 1., 2., 3.], requires_grad=True)\n"
     ]
    },
    {
     "data": {
      "text/plain": [
       "tensor([1., 2., 0., 0.])"
      ]
     },
     "execution_count": 6,
     "metadata": {},
     "output_type": "execute_result"
    }
   ],
   "source": [
    "print(x)\n",
    "# zero grad\n",
    "x.grad.zero_()\n",
    "y=x[0]+2*x[1]\n",
    "y.backward()\n",
    "x.grad"
   ]
  },
  {
   "cell_type": "markdown",
   "metadata": {},
   "source": [
    "# 非标量变量的反向传播\n",
    "- y不是标量的时候，y关于x的导数是一个矩阵。"
   ]
  },
  {
   "cell_type": "code",
   "execution_count": 14,
   "metadata": {},
   "outputs": [
    {
     "name": "stdout",
     "output_type": "stream",
     "text": [
      "tensor([0., 1., 4., 9.], grad_fn=<MulBackward0>)\n",
      "tensor(14., grad_fn=<SumBackward0>)\n"
     ]
    },
    {
     "data": {
      "text/plain": [
       "tensor([0., 2., 4., 6.])"
      ]
     },
     "execution_count": 14,
     "metadata": {},
     "output_type": "execute_result"
    }
   ],
   "source": [
    "x.grad.zero_()\n",
    "y=x*x\n",
    "print(y)\n",
    "y=y.sum()\n",
    "y.backward()\n",
    "#y.backward(t.ones(len(x)))\n",
    "print(y)\n",
    "x.grad"
   ]
  },
  {
   "cell_type": "markdown",
   "metadata": {},
   "source": [
    "# 分离计算-Detach"
   ]
  },
  {
   "cell_type": "code",
   "execution_count": 17,
   "metadata": {},
   "outputs": [
    {
     "data": {
      "text/plain": [
       "tensor([ 0.,  3.,  8., 15.])"
      ]
     },
     "execution_count": 17,
     "metadata": {},
     "output_type": "execute_result"
    }
   ],
   "source": [
    "x.grad.zero_()\n",
    "y=x*x\n",
    "u=y.detach()\n",
    "z=u*x\n",
    "# there , u is considered as a constent, so the gradient of z is u\n",
    "z.sum().backward()\n",
    "x.grad==u\n",
    "\n",
    "# we can also get the gradient of y\n",
    "x.grad.zero_()\n",
    "y.sum().backward()\n",
    "x.grad"
   ]
  },
  {
   "cell_type": "markdown",
   "metadata": {},
   "source": [
    "# Python 控制流的梯度计算"
   ]
  },
  {
   "cell_type": "code",
   "execution_count": 26,
   "metadata": {},
   "outputs": [
    {
     "name": "stdout",
     "output_type": "stream",
     "text": [
      "tensor(2.2043, requires_grad=True) tensor(1128.6014, grad_fn=<MulBackward0>)\n"
     ]
    },
    {
     "data": {
      "text/plain": [
       "tensor(True)"
      ]
     },
     "execution_count": 26,
     "metadata": {},
     "output_type": "execute_result"
    }
   ],
   "source": [
    "def f2(a:Tensor):\n",
    "    b=a*2\n",
    "    while b.norm()<1000:\n",
    "        b=b*2\n",
    "    if b.sum()>0:\n",
    "        c=b\n",
    "    else:\n",
    "        c=100*b\n",
    "    return c\n",
    "\n",
    "a=t.randn(size=(),requires_grad=True)\n",
    "d=f2(a)\n",
    "d.backward()\n",
    "print(a,d)\n",
    "a.grad==d/a"
   ]
  },
  {
   "cell_type": "markdown",
   "metadata": {},
   "source": [
    "# 关于MSE（均方误差）函数梯度的计算"
   ]
  },
  {
   "cell_type": "code",
   "execution_count": 1,
   "metadata": {},
   "outputs": [
    {
     "name": "stdout",
     "output_type": "stream",
     "text": [
      "a.grad is :{} tensor([[-2.],\n",
      "        [-2.]])\n",
      "a.grad is :{} tensor([[-2.],\n",
      "        [-2.]])\n",
      "a.grad is :{} tensor([[-2.],\n",
      "        [-2.]])\n"
     ]
    }
   ],
   "source": [
    "import torch as t\n",
    "import torch.nn as nn\n",
    "a = t.tensor(([1],[2]),dtype=t.float32,requires_grad=True)\n",
    "b = t.tensor(([3], [4]), dtype=t.float32)\n",
    "loss_func=nn.MSELoss()\n",
    "loss=loss_func(a,b)\n",
    "loss.sum().backward()# which equals to loss.backward()\n",
    "# |a-b|^2/2 = [(1-3)^2 + (2-4)^2]/2\n",
    "# let a = x1,x2\n",
    "# |a-b|^2 = (x1-3)^2 + (x2-4)^2\n",
    "# a.grad = (x1-3)+(x2-4)\n",
    "# when x1=1 ,x2=4 , the grad is [-2,-2]\n",
    "print(\"a.grad is :{}\",a.grad)\n",
    "# compute |b-a|^2/2\n",
    "a.grad.zero_()\n",
    "loss=loss_func(b,a)\n",
    "loss.backward()\n",
    "print(\"a.grad is :{}\", a.grad)\n",
    "# loss.mean() \n",
    "a.grad.zero_()\n",
    "loss = loss_func(b, a)\n",
    "loss.mean().backward()\n",
    "print(\"a.grad is :{}\", a.grad)\n"
   ]
  },
  {
   "cell_type": "markdown",
   "metadata": {},
   "source": [
    "# 关于ToDevice梯度消失问题\n",
    "- 由于.to(device)是一次操作，此时的TENSOR已经不是叶子节点了"
   ]
  },
  {
   "cell_type": "code",
   "execution_count": 3,
   "metadata": {},
   "outputs": [
    {
     "name": "stdout",
     "output_type": "stream",
     "text": [
      "tensor([[1., 1.],\n",
      "        [1., 1.]], device='cuda:0', grad_fn=<ToCopyBackward0>)\n",
      "None\n"
     ]
    },
    {
     "data": {
      "text/plain": [
       "\"\\nUserWarning: The .grad attribute of a Tensor that is not a leaf Tensor is being accessed.\\nIts .grad attribute won't be populated during autograd.backward(). \\nIf you indeed want the .grad field to be populated for a non-leaf Tensor, use .retain_grad() on the non-leaf Tensor. \\nIf you access the non-leaf Tensor by mistake, make sure you access the leaf Tensor instead.\""
      ]
     },
     "execution_count": 3,
     "metadata": {},
     "output_type": "execute_result"
    }
   ],
   "source": [
    "import torch as t\n",
    "a = t.ones((2, 2), requires_grad=True).to(\"cuda\")\n",
    "\"\"\"\n",
    "tensor([[1., 1.],\n",
    "        [1., 1.]], device='cuda:0',\n",
    "         ****grad_fn=<ToCopyBackward0>****)\n",
    "        \"\"\"\n",
    "print(a)\n",
    "b=a.sum()\n",
    "b.backward()\n",
    "print(a.grad)\n",
    "\n",
    "\"\"\"\n",
    "UserWarning: The .grad attribute of a Tensor that is not a leaf Tensor is being accessed.\n",
    "Its .grad attribute won't be populated during autograd.backward(). \n",
    "If you indeed want the .grad field to be populated for a non-leaf Tensor, use .retain_grad() on the non-leaf Tensor. \n",
    "If you access the non-leaf Tensor by mistake, make sure you access the leaf Tensor instead.\"\"\"\n"
   ]
  },
  {
   "cell_type": "code",
   "execution_count": 4,
   "metadata": {},
   "outputs": [
    {
     "name": "stdout",
     "output_type": "stream",
     "text": [
      "tensor([[1., 1.],\n",
      "        [1., 1.]], requires_grad=True) \n",
      " tensor([[1., 1.],\n",
      "        [1., 1.]])\n"
     ]
    }
   ],
   "source": [
    "###########################\n",
    "c = t.ones((2, 2), requires_grad=True)\n",
    "d = c.to(\"cuda:0\")\n",
    "e = d.sum()\n",
    "e.backward()\n",
    "print(c,\"\\n\",c.grad)\n"
   ]
  },
  {
   "cell_type": "code",
   "execution_count": 5,
   "metadata": {},
   "outputs": [
    {
     "name": "stdout",
     "output_type": "stream",
     "text": [
      "tensor([[1., 1.],\n",
      "        [1., 1.]], device='cuda:0', requires_grad=True)\n",
      "tensor([[1., 1.],\n",
      "        [1., 1.]], device='cuda:0')\n"
     ]
    }
   ],
   "source": [
    "\n",
    "a = t.ones((2, 2), requires_grad=True,device=t.device(\"cuda:0\"))\n",
    "\"\"\"\n",
    "tensor([[1., 1.],\n",
    "        [1., 1.]], device='cuda:0',\n",
    "         ****grad_fn=<ToCopyBackward0>****)\n",
    "        \"\"\"\n",
    "print(a)\n",
    "b = a.sum()\n",
    "b.backward()\n",
    "print(a.grad)\n"
   ]
  },
  {
   "cell_type": "markdown",
   "metadata": {},
   "source": [
    "# nn.Module的to device 问题"
   ]
  },
  {
   "cell_type": "code",
   "execution_count": 6,
   "metadata": {},
   "outputs": [
    {
     "name": "stdout",
     "output_type": "stream",
     "text": [
      "<NegBackward0 object at 0x00000264DEA10E50>\n",
      "weight Parameter containing:\n",
      "tensor([[-0.5422, -0.1109],\n",
      "        [-0.1535,  0.5395]], device='cuda:0', requires_grad=True)\n",
      "bias Parameter containing:\n",
      "tensor([-0.0947, -0.1053], device='cuda:0', requires_grad=True)\n",
      "tensor([[-0.1000, -0.2000],\n",
      "        [-0.1000, -0.2000]], device='cuda:0')\n"
     ]
    }
   ],
   "source": [
    "import torch as t\n",
    "import torch.nn as nn\n",
    "# 4 Parameters\n",
    "net = nn.Linear(2,2)\n",
    "netcuda=net.to(\"cuda:0\")\n",
    "result=net(t.tensor([0.1,0.2],device=\"cuda:0\"))\n",
    "result=-result.sum()\n",
    "print(result.grad_fn)\n",
    "result.backward()\n",
    "for name,param in net.named_parameters():\n",
    "    print(name,param)\n",
    "print(net.weight.grad)"
   ]
  }
 ],
 "metadata": {
  "interpreter": {
   "hash": "32fe4a0c0b23bf2d0ff7b6ec889b7996b95e9e7ff48467869f67c8fd61e3e485"
  },
  "kernelspec": {
   "display_name": "Python 3.9.7 64-bit ('base': conda)",
   "language": "python",
   "name": "python3"
  },
  "language_info": {
   "codemirror_mode": {
    "name": "ipython",
    "version": 3
   },
   "file_extension": ".py",
   "mimetype": "text/x-python",
   "name": "python",
   "nbconvert_exporter": "python",
   "pygments_lexer": "ipython3",
   "version": "3.9.7"
  },
  "orig_nbformat": 4
 },
 "nbformat": 4,
 "nbformat_minor": 2
}
