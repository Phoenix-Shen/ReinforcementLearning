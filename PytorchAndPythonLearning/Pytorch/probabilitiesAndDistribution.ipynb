{
 "cells": [
  {
   "cell_type": "markdown",
   "metadata": {},
   "source": [
    "# 在强化学习中，需要进行随机采样，比如说泊松分布、正态分布等，所以就要用概率论"
   ]
  },
  {
   "cell_type": "code",
   "execution_count": 3,
   "metadata": {},
   "outputs": [
    {
     "name": "stdout",
     "output_type": "stream",
     "text": [
      "tensor([0., 0., 1., 0., 0., 0.]) tensor([1., 3., 0., 4., 1., 1.])\n"
     ]
    }
   ],
   "source": [
    "import torch as t\n",
    "import torch.distributions as distributions\n",
    "\n",
    "fair_probs=t.ones([6])/6\n",
    "#torch.multinominal方法可以根据给定权重对数组进行多次采样，返回采样后的元素下标\n",
    "a=distributions.multinomial.Multinomial(1,fair_probs).sample()\n",
    "# 取10个样本，不是用for循环来调用上面的一行，而是多线程。\n",
    "b=distributions.multinomial.Multinomial(10, fair_probs).sample()\n",
    "print(a,b)"
   ]
  },
  {
   "cell_type": "markdown",
   "metadata": {},
   "source": [
    "# 分布的期望和方差"
   ]
  },
  {
   "cell_type": "code",
   "execution_count": 14,
   "metadata": {},
   "outputs": [
    {
     "name": "stdout",
     "output_type": "stream",
     "text": [
      "expectation:3.0\n",
      "variance: 1.0\n",
      "variance: 1.0\n"
     ]
    }
   ],
   "source": [
    "def p(x:int)->float:\n",
    "    probabilities=[0.1,0.2,0.3,0.4]\n",
    "    return probabilities[x]\n",
    "def f(x:int)->int:\n",
    "    values=[1,2,3,4]\n",
    "    return values[x]\n",
    "\n",
    "#compute the expectation\n",
    "sum=0\n",
    "for x in range(4):\n",
    "    sum+=p(x)*f(x)\n",
    "print(\"expectation:{}\".format(sum))\n",
    "expectation=sum\n",
    "#compute the variance\n",
    "# var[x]=E[x^2]-E[x]^2\n",
    "\n",
    "# Naive Method\n",
    "sum=0\n",
    "for x in range(4):\n",
    "    sum += p(x)*(f(x)-expectation)*(f(x)-expectation)\n",
    "print(\"variance:\",sum)\n",
    "# use var[x]=E[x^2]-E[x]^2\n",
    "\n",
    "sum=0\n",
    "for x in range(4):\n",
    "    sum += (p(x)*f(x)*f(x))\n",
    "print(\"variance:\", sum-expectation*expectation)\n"
   ]
  }
 ],
 "metadata": {
  "interpreter": {
   "hash": "32fe4a0c0b23bf2d0ff7b6ec889b7996b95e9e7ff48467869f67c8fd61e3e485"
  },
  "kernelspec": {
   "display_name": "Python 3.9.7 64-bit ('base': conda)",
   "language": "python",
   "name": "python3"
  },
  "language_info": {
   "codemirror_mode": {
    "name": "ipython",
    "version": 3
   },
   "file_extension": ".py",
   "mimetype": "text/x-python",
   "name": "python",
   "nbconvert_exporter": "python",
   "pygments_lexer": "ipython3",
   "version": "3.9.7"
  },
  "orig_nbformat": 4
 },
 "nbformat": 4,
 "nbformat_minor": 2
}
