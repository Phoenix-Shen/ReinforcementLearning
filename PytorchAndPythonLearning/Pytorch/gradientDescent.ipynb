{
 "cells": [
  {
   "cell_type": "markdown",
   "metadata": {},
   "source": [
    "# 梯度下降\n",
    "梯度下降是理解梯度下降算法的关键\n",
    "\n",
    "预处理 preconditioning 是梯度下降中的一种常用技术，还被沿用到更高级的算法中。\n",
    "\n"
   ]
  },
  {
   "cell_type": "code",
   "execution_count": null,
   "metadata": {},
   "outputs": [],
   "source": [
    "# f(x+ε)= f(x)+ εf'(x) + O(ε**2)\n",
    "# 在一阶近似中，f(x+ε)可以通过在x处的函数值和一阶导数得出，\n",
    "# 假设在负梯度方向上移动的ε会减少f\n",
    "\n",
    "%matplotlib inline\n",
    "import numpy as np\n",
    "import torch as t \n",
    "from pltutils import *\n",
    "\n",
    "def f(x):\n",
    "    return  x**2\n",
    "def f_grad(x):\n",
    "    return 2*x\n",
    "\n",
    "def gd(eta,f_grad):\n",
    "    pass\n"
   ]
  }
 ],
 "metadata": {
  "language_info": {
   "name": "python"
  },
  "orig_nbformat": 4
 },
 "nbformat": 4,
 "nbformat_minor": 2
}
